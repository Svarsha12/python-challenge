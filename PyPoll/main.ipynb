{
 "cells": [
  {
   "cell_type": "code",
   "execution_count": null,
   "metadata": {},
   "outputs": [],
   "source": [
    "import csv\n",
    "\n",
    "# reading all data from election_data.csv \n",
    "\n",
    "with open('./Resources/election_data.csv', newline = '') as csvfile:\n",
    "    reader = csv.DictReader(csvfile)\n",
    "    \n",
    "    rows= []\n",
    "    for row in reader:\n",
    "        print(row['Ballot ID'], row['County'], row['Candidate'])"
   ]
  },
  {
   "cell_type": "code",
   "execution_count": 2,
   "metadata": {},
   "outputs": [
    {
     "name": "stdout",
     "output_type": "stream",
     "text": [
      "Total number of votes: 369710\n"
     ]
    }
   ],
   "source": [
    "\n",
    "#getting sum of total count of votes cast\n",
    "import csv\n",
    "\n",
    "with open('./Resources/election_data.csv', 'r') as csvfile:\n",
    "    reader = csv.reader(csvfile)\n",
    "    next(reader)\n",
    "    total_votes = 0\n",
    "    \n",
    "    \n",
    "    for row in reader:\n",
    "        total_votes= int(sum(1 for row in reader))\n",
    "        \n",
    "\n",
    "        \n",
    "# printing the total count of votes\n",
    "result1 = print(\"Total number of votes:\" , str(total_votes))\n",
    "        \n",
    "\n",
    "     \n",
    "     \n"
   ]
  },
  {
   "cell_type": "code",
   "execution_count": 3,
   "metadata": {},
   "outputs": [
    {
     "name": "stdout",
     "output_type": "stream",
     "text": [
      "Diana DeGette\n",
      "Charles Casper Stockham\n",
      "Raymon Anthony Doane\n"
     ]
    }
   ],
   "source": [
    "# complete list of candidates only\n",
    "import csv\n",
    "\n",
    "\n",
    "with open('./Resources/election_data.csv', 'r') as csvfile:\n",
    "    reader = csv.reader(csvfile)\n",
    "    next(reader)\n",
    "    \n",
    "    # create an empty set of candidate\n",
    "    candidates = set()\n",
    "    \n",
    "    #Iterate over each row in the csv file\n",
    "    \n",
    "    for row in reader:\n",
    "        candidate = row[2]\n",
    "        \n",
    "        candidates.add(candidate)\n",
    "        \n",
    "for candidate in candidates:\n",
    "    print(candidate)\n",
    "    \n",
    "      \n"
   ]
  },
  {
   "cell_type": "code",
   "execution_count": 4,
   "metadata": {},
   "outputs": [
    {
     "name": "stdout",
     "output_type": "stream",
     "text": [
      "Candidates:Charles Casper Stockham, Total_votes:85213\n",
      "Candidates:Diana DeGette, Total_votes:272892\n",
      "Candidates:Raymon Anthony Doane, Total_votes:11606\n"
     ]
    }
   ],
   "source": [
    "# created a function to get complete list of candidates with total votes \n",
    "import csv\n",
    "\n",
    "\n",
    "\n",
    "def get_candidates_list_votes():\n",
    "    candidates_list_votes = {}\n",
    "    \n",
    "   \n",
    "    \n",
    "    \n",
    "\n",
    "    with open('./Resources/election_data.csv', 'r') as csvfile:\n",
    "        reader = csv.reader(csvfile)\n",
    "        next(reader) \n",
    "        \n",
    "        candidate= {} \n",
    "        #total_votes = []\n",
    "        \n",
    "        for row in reader:\n",
    "            candidate = row[2]\n",
    "            #total_votes = int(row[0])\n",
    "            \n",
    "            if candidate in candidates_list_votes:\n",
    "               candidates_list_votes[candidate] += 1   #total_votes\n",
    "               \n",
    "            else:\n",
    "                candidates_list_votes[candidate] = 1 # total_votes\n",
    "                \n",
    "    return candidates_list_votes\n",
    "\n",
    "candidates_list_votes = get_candidates_list_votes()\n",
    "\n",
    "# printing complete list of candidates and total votes\n",
    "      \n",
    "            \n",
    "for candidate, total_votes in candidates_list_votes.items():\n",
    "    \n",
    "    \n",
    "    #printing the answer\n",
    "    result2 = print(f\"Candidates:{candidate}, Total_votes:{total_votes}\")\n",
    "    \n",
    "\n",
    "\n"
   ]
  },
  {
   "cell_type": "code",
   "execution_count": 5,
   "metadata": {},
   "outputs": [
    {
     "name": "stdout",
     "output_type": "stream",
     "text": [
      "Charles Casper Stockham\n",
      "Percentage of Votes: 23.04854332167558\n",
      "Total Votes: 85213\n",
      "\n",
      "Diana DeGette\n",
      "Percentage of Votes: 73.81224794501652\n",
      "Total Votes: 272892\n",
      "\n",
      "Raymon Anthony Doane\n",
      "Percentage of Votes: 3.1392087333079077\n",
      "Total Votes: 11606\n",
      "\n"
     ]
    }
   ],
   "source": [
    "# the percentage of votes each candidates won\n",
    "\n",
    "import csv \n",
    "\n",
    "\n",
    "\n",
    "# Define the votes for each candidate \n",
    "candidate_votes = {\n",
    "    'Charles Casper Stockham': 85213,\n",
    "    'Diana DeGette':272892,\n",
    "    'Raymon Anthony Doane':11606}\n",
    "\n",
    "# Calculate the total number of votes\n",
    "total_votes = sum(candidate_votes.values())\n",
    "\n",
    "# Calculate the percentage of votes and total votes for each candidates\n",
    "\n",
    "candidate_results = {}\n",
    "for candidate, votes in candidate_votes.items():\n",
    "    percentage = (votes/total_votes)* 100\n",
    "    candidate_results[candidate] = {\n",
    "        'Percentage': percentage,\n",
    "        'Total Votes': votes\n",
    "    }\n",
    "    \n",
    "#print the results\n",
    "for candidate, results in candidate_results.items():\n",
    "    \n",
    "   result3 ={ print(candidate),\n",
    "    print('Percentage of Votes:', results['Percentage']),\n",
    "    print('Total Votes:', results['Total Votes']),\n",
    "    print()}\n",
    " \n",
    "   \n",
    "\n"
   ]
  },
  {
   "cell_type": "code",
   "execution_count": 6,
   "metadata": {},
   "outputs": [
    {
     "name": "stdout",
     "output_type": "stream",
     "text": [
      "The winner of the election is:  Diana DeGette\n"
     ]
    }
   ],
   "source": [
    "# winner of the election based on the popular votes\n",
    "# list of candidates with total votes \n",
    "# created a function get_candidate_list_votes\n",
    "import csv\n",
    "\n",
    "\n",
    "\n",
    "def get_candidates_list_votes():\n",
    "    candidates_list_votes = {}\n",
    "    \n",
    "    \n",
    "    \n",
    "    with open('./Resources/election_data.csv', 'r') as csvfile:\n",
    "        reader = csv.reader(csvfile)\n",
    "        next(reader) \n",
    "        \n",
    "        candidate= {} \n",
    "        #total_votes = []\n",
    "        \n",
    "        for row in reader:\n",
    "            candidate = row[2]\n",
    "            #total_votes = int(row[0])\n",
    "            \n",
    "            if candidate in candidates_list_votes:\n",
    "               candidates_list_votes[candidate] += 1   #total_votes\n",
    "               \n",
    "            else:\n",
    "                candidates_list_votes[candidate] = 1 # total_votes\n",
    "                \n",
    "    return candidates_list_votes\n",
    "\n",
    "candidates_list_votes = get_candidates_list_votes()\n",
    "\n",
    "#getting the winner of the votes\n",
    "    \n",
    "\n",
    "winner_votes = max(candidates_list_votes.values())\n",
    "winner = [candidate for candidate, votes in candidates_list_votes.items() if votes == winner_votes]\n",
    "\n",
    "# print the winner of the election\n",
    "result4 = print(f\"The winner of the election is:  {', '.join (winner)}\")\n"
   ]
  },
  {
   "cell_type": "code",
   "execution_count": 7,
   "metadata": {},
   "outputs": [],
   "source": [
    "#exported all results to election1.txt\n",
    "\n",
    "result1 = \"Total number of votes: 369710\"\n",
    "\n",
    "result2 = \"Candidates:Charles Casper Stockham, Total_votes:85213,Candidates:Diana DeGette, Total_votes:272892,Candidates:Raymon Anthony Doane, Total_votes:11606\"\n",
    "\n",
    "result3 = \"Charles Casper Stockham,Percentage of Votes: 23.04854332167558,Total Votes: 85213,Diana DeGette,Percentage of Votes: 73.81224794501652,Total Votes: 272892,Raymon Anthony Doane,Percentage of Votes: 3.1392087333079077, Total Votes: 11606\"\n",
    "\n",
    "result4 = \"The winner of the election is:  Diana DeGette\"\n",
    "\n",
    "#concatenate the result in single string\n",
    "all_results = result1 +  \"\\n\"  + result2 +  \"\\n\"  + result3 +  \"\\n\"  + result4  + \"\\n\" \n",
    "\n",
    "with open('./Election Results/election1.txt', 'w') as file:\n",
    "    \n",
    "    # write the results on election1.txt file\n",
    "    file.write(all_results)\n",
    "\n",
    "\n",
    "\n",
    "\n",
    "\n"
   ]
  }
 ],
 "metadata": {
  "kernelspec": {
   "display_name": "Python 3",
   "language": "python",
   "name": "python3"
  },
  "language_info": {
   "codemirror_mode": {
    "name": "ipython",
    "version": 3
   },
   "file_extension": ".py",
   "mimetype": "text/x-python",
   "name": "python",
   "nbconvert_exporter": "python",
   "pygments_lexer": "ipython3",
   "version": "3.12.1"
  }
 },
 "nbformat": 4,
 "nbformat_minor": 2
}
