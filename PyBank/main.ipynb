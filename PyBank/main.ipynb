{
 "cells": [
  {
   "cell_type": "code",
   "execution_count": 19,
   "metadata": {},
   "outputs": [
    {
     "name": "stdout",
     "output_type": "stream",
     "text": [
      "Jan-10 1088983\n",
      "Feb-10 -354534\n",
      "Mar-10 276622\n",
      "Apr-10 -728133\n",
      "May-10 852993\n",
      "Jun-10 563721\n",
      "Jul-10 -535208\n",
      "Aug-10 632349\n",
      "Sep-10 -173744\n",
      "Oct-10 950741\n",
      "Nov-10 -785750\n",
      "Dec-10 -1194133\n",
      "Jan-11 -589576\n",
      "Feb-11 -883921\n",
      "Mar-11 443564\n",
      "Apr-11 837887\n",
      "May-11 1081472\n",
      "Jun-11 464033\n",
      "Jul-11 -1066544\n",
      "Aug-11 323846\n",
      "Sep-11 -806551\n",
      "Oct-11 487053\n",
      "Nov-11 1128811\n",
      "Dec-11 791398\n",
      "Jan-12 739367\n",
      "Feb-12 -197825\n",
      "Mar-12 666016\n",
      "Apr-12 589771\n",
      "May-12 489290\n",
      "Jun-12 -471439\n",
      "Jul-12 120417\n",
      "Aug-12 175347\n",
      "Sep-12 855449\n",
      "Oct-12 605195\n",
      "Nov-12 -235220\n",
      "Dec-12 347138\n",
      "Jan-13 298510\n",
      "Feb-13 163254\n",
      "Mar-13 1141840\n",
      "Apr-13 542630\n",
      "May-13 99841\n",
      "Jun-13 752765\n",
      "Jul-13 -252949\n",
      "Aug-13 914424\n",
      "Sep-13 679524\n",
      "Oct-13 514377\n",
      "Nov-13 462102\n",
      "Dec-13 159782\n",
      "Jan-14 878810\n",
      "Feb-14 -946748\n",
      "Mar-14 340335\n",
      "Apr-14 292032\n",
      "May-14 502266\n",
      "Jun-14 265852\n",
      "Jul-14 851017\n",
      "Aug-14 -549615\n",
      "Sep-14 290162\n",
      "Oct-14 755391\n",
      "Nov-14 1073202\n",
      "Dec-14 313000\n",
      "Jan-15 241132\n",
      "Feb-15 1036589\n",
      "Mar-15 853904\n",
      "Apr-15 -388932\n",
      "May-15 982952\n",
      "Jun-15 537759\n",
      "Jul-15 547784\n",
      "Aug-15 -496214\n",
      "Sep-15 854181\n",
      "Oct-15 934719\n",
      "Nov-15 -288531\n",
      "Dec-15 -184383\n",
      "Jan-16 659541\n",
      "Feb-16 -1149123\n",
      "Mar-16 355882\n",
      "Apr-16 662284\n",
      "May-16 518681\n",
      "Jun-16 -748256\n",
      "Jul-16 -910775\n",
      "Aug-16 951227\n",
      "Sep-16 898241\n",
      "Oct-16 -729004\n",
      "Nov-16 -112209\n",
      "Dec-16 516313\n",
      "Jan-17 607208\n",
      "Feb-17 382539\n"
     ]
    }
   ],
   "source": [
    "import csv\n",
    "\n",
    "# reading all data from budget_data.csv\n",
    "with open('./Resources/budget_data.csv', newline='') as csvfile:\n",
    "    reader = csv.DictReader(csvfile)\n",
    "    \n",
    "    rows= []\n",
    "    for row in reader:\n",
    "        print(row['Date'], row['Profit/Losses'])"
   ]
  },
  {
   "cell_type": "code",
   "execution_count": 20,
   "metadata": {},
   "outputs": [
    {
     "name": "stdout",
     "output_type": "stream",
     "text": [
      "Total number of months:85\n"
     ]
    }
   ],
   "source": [
    "#getting sum of total count of months\n",
    "\n",
    "import csv\n",
    "\n",
    "\n",
    "with open('./Resources/budget_data.csv', newline='') as csvfile:\n",
    "    reader = csv.reader(csvfile)\n",
    "    next(reader)\n",
    "    total_months = 0\n",
    "    \n",
    "    \n",
    "    for row in reader:\n",
    "        #total_months +=1\n",
    "        #total_months= int(sum(1 for row in reader))\n",
    "        total_months += 1\n",
    "        total_months= sum(1 for row in reader)\n",
    "        \n",
    "        # It read one number less, instead of 86 I got 85\n",
    "        print(\"Total number of months:\" + str(total_months))\n",
    "     \n",
    "     \n",
    "     "
   ]
  },
  {
   "cell_type": "code",
   "execution_count": 21,
   "metadata": {},
   "outputs": [
    {
     "name": "stdout",
     "output_type": "stream",
     "text": [
      "Total: 22564198.0\n"
     ]
    }
   ],
   "source": [
    "#Total amount\n",
    "\n",
    "\n",
    "with open('./Resources/budget_data.csv', newline='') as csvfile:\n",
    "    reader = csv.reader(csvfile)\n",
    "    next(reader)\n",
    "    total_amount = 0\n",
    "    for row in reader:\n",
    "        profit_loss = float(row[1])\n",
    "        total_amount += profit_loss\n",
    "        \n",
    "    # print the answer\n",
    "        \n",
    "        \n",
    "    print(\"Total:\", total_amount)\n",
    "    "
   ]
  },
  {
   "cell_type": "code",
   "execution_count": 22,
   "metadata": {},
   "outputs": [
    {
     "name": "stdout",
     "output_type": "stream",
     "text": [
      "Average_change: -8311.105882352942\n"
     ]
    }
   ],
   "source": [
    "\n",
    "# Average_change\n",
    "\n",
    "\n",
    "with open('./Resources/budget_data.csv', newline='') as csvfile:\n",
    "#with open('budget_data.csv', 'r') as csvfile:\n",
    "        reader = csv.reader(csvfile)\n",
    "        next(reader)\n",
    "        \n",
    "        total_change= 0\n",
    "        profit_losses = []\n",
    "        count = 0\n",
    "        previous_value= None\n",
    "        \n",
    "        for row in reader:\n",
    "            profit_loss = float(row[1])\n",
    "            \n",
    "            if previous_value is not None:\n",
    "                change = profit_loss -previous_value\n",
    "                total_change += change\n",
    "                count += 1\n",
    "                \n",
    "            previous_value = profit_loss\n",
    "            profit_losses.append(profit_loss)\n",
    "      \n",
    "        \n",
    "        # calculating the average change\n",
    "        average_change = total_change / count\n",
    " \n",
    "        \n",
    "        #printing answer\n",
    "        print(\"Average_change:\", average_change)"
   ]
  },
  {
   "cell_type": "code",
   "execution_count": 23,
   "metadata": {},
   "outputs": [
    {
     "name": "stdout",
     "output_type": "stream",
     "text": [
      "The greatest increase in profits: Feb-17 (382539)\n"
     ]
    }
   ],
   "source": [
    "# greatest increase in profits\n",
    "import csv\n",
    "\n",
    "        \n",
    "\n",
    "\n",
    "with open('./Resources/budget_data.csv', newline='') as csvfile:\n",
    "        reader = csv.reader(csvfile)\n",
    "        next(reader)\n",
    "                \n",
    "        \n",
    "        # The greatest increase in profit\n",
    "        greatest_increase_date =''\n",
    "        greatest_increase_profit = 0\n",
    "        \n",
    "        previous_profit = 0\n",
    "        \n",
    "        #looping through the file\n",
    "        \n",
    "        for row in reader:\n",
    "                date = row[0]\n",
    "                profit_losses= int(row[1])\n",
    "                increase = profit_losses - previous_profit\n",
    "                \n",
    "        if increase >greatest_increase_profit:\n",
    "                greatest_increase_profit = increase\n",
    "                greatest_increase_date = date\n",
    "                \n",
    "                previous_profit = profit_losses\n",
    "                \n",
    "                \n",
    "        \n",
    "\n",
    "\n",
    "#answer is not same as answer mentioned on the Module 3 challenge as I didnot see that specific number on the budget file\n",
    "\n",
    "#printing the answer\n",
    "\n",
    "print(f\"The greatest increase in profits: {greatest_increase_date} ({greatest_increase_profit})\")\n"
   ]
  },
  {
   "cell_type": "code",
   "execution_count": 24,
   "metadata": {},
   "outputs": [
    {
     "name": "stdout",
     "output_type": "stream",
     "text": [
      "The greatest decrease in profit was on Dec-10 (-1194133)\n"
     ]
    }
   ],
   "source": [
    "# greatest decrease in profits\n",
    "\n",
    "\n",
    "with open('./Resources/budget_data.csv', newline='') as csvfile:\n",
    "        reader = csv.reader(csvfile)\n",
    "        next(reader)\n",
    "        \n",
    "        # The greatest increase in profit\n",
    "        greatest_decrease_date = \"\"\n",
    "        greatest_decrease_profit = 0\n",
    "        \n",
    "        # looping through the file\n",
    "        for row in reader:\n",
    "            date = row[0]\n",
    "            profit_losses = int(row[1])\n",
    "            \n",
    "            if profit_losses < greatest_decrease_profit:\n",
    "                greatest_decrease_profit = profit_losses\n",
    "                greatest_decrease_date = date\n",
    "                \n",
    "                \n",
    "#answer is not same as answer mentioned on the Module 3 challenge as I didnot see that specific number on the budget file\n",
    "            # printing the answer\n",
    "                \n",
    "print(f\"The greatest decrease in profit was on {greatest_decrease_date} ({greatest_decrease_profit})\")\n",
    "\n",
    "\n"
   ]
  }
 ],
 "metadata": {
  "kernelspec": {
   "display_name": "Python 3",
   "language": "python",
   "name": "python3"
  },
  "language_info": {
   "codemirror_mode": {
    "name": "ipython",
    "version": 3
   },
   "file_extension": ".py",
   "mimetype": "text/x-python",
   "name": "python",
   "nbconvert_exporter": "python",
   "pygments_lexer": "ipython3",
   "version": "3.12.1"
  }
 },
 "nbformat": 4,
 "nbformat_minor": 2
}
